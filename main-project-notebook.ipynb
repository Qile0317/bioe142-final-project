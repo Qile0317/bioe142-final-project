{
 "cells": [
  {
   "cell_type": "markdown",
   "id": "bf5f1d02",
   "metadata": {},
   "source": [
    "# BioE C142 Final Ugrad Project - Qile Yang\n",
    "\n",
    "> Instructions: Final results. Train your model with all data and compare your results to what’s reported in the paper. Finish off Jupyter notebooks and organize results."
   ]
  },
  {
   "cell_type": "code",
   "execution_count": 1,
   "id": "9f481956",
   "metadata": {},
   "outputs": [
    {
     "name": "stderr",
     "output_type": "stream",
     "text": [
      "/home/qile/miniconda3/lib/python3.12/site-packages/torchani/aev.py:16: UserWarning: cuaev not installed\n",
      "  warnings.warn(\"cuaev not installed\")\n",
      "/home/qile/miniconda3/lib/python3.12/site-packages/torchani/__init__.py:55: UserWarning: Dependency not satisfied, torchani.ase will not be available\n",
      "  warnings.warn(\"Dependency not satisfied, torchani.ase will not be available\")\n"
     ]
    },
    {
     "name": "stdout",
     "output_type": "stream",
     "text": [
      "cuda\n"
     ]
    }
   ],
   "source": [
    "# notebook and python env setup\n",
    "import numpy as np\n",
    "from tqdm import tqdm\n",
    "import torch\n",
    "import torch.nn as nn\n",
    "import matplotlib.pyplot as plt\n",
    "import torchani\n",
    "import warnings\n",
    "warnings.filterwarnings(\"ignore\", category=UserWarning)\n",
    "\n",
    "device = torch.device('cuda' if torch.cuda.is_available() else 'cpu')\n",
    "print(device)"
   ]
  },
  {
   "cell_type": "markdown",
   "id": "c18ab69d",
   "metadata": {},
   "source": [
    "## Data Loading and Processing\n",
    "___\n",
    "\n",
    "Here I start off by loading and setting up the ANI dataset into `train_data`, `val_data`, and `test_data`."
   ]
  },
  {
   "cell_type": "code",
   "execution_count": null,
   "id": "16e968a8",
   "metadata": {},
   "outputs": [],
   "source": [
    "def load_ani_dataset(dspath):\n",
    "    self_energies = torch.tensor([\n",
    "        0.500607632585, -37.8302333826,\n",
    "        -54.5680045287, -75.0362229210\n",
    "    ], dtype=torch.float, device=device)\n",
    "    energy_shifter = torchani.utils.EnergyShifter(None)\n",
    "    species_order = ['H', 'C', 'N', 'O']\n",
    "\n",
    "    dataset = torchani.data.load(dspath)\n",
    "    dataset = dataset.subtract_self_energies(energy_shifter, species_order)\n",
    "    dataset = dataset.species_to_indices(species_order)\n",
    "    dataset = dataset.shuffle()\n",
    "    return dataset\n",
    "\n",
    "dataset = load_ani_dataset(\"data/ani_gdb_s01_to_s04.h5\")\n",
    "train_data, val_data, test_data = dataset.split(0.8, 0.1, 0.1)"
   ]
  },
  {
   "cell_type": "code",
   "execution_count": 3,
   "id": "8646752d",
   "metadata": {},
   "outputs": [
    {
     "name": "stdout",
     "output_type": "stream",
     "text": [
      "691918\n"
     ]
    }
   ],
   "source": [
    "print(len(train_data))"
   ]
  },
  {
   "cell_type": "code",
   "execution_count": 4,
   "id": "3099d46e",
   "metadata": {},
   "outputs": [
    {
     "name": "stdout",
     "output_type": "stream",
     "text": [
      "86489\n"
     ]
    }
   ],
   "source": [
    "print(len(val_data))"
   ]
  },
  {
   "cell_type": "markdown",
   "id": "57fdd711",
   "metadata": {},
   "source": [
    "## Training Setup\n",
    "___\n",
    "Here I setup the training loop and the AEV computer for this specific dataset of small molecules comprised of H, C, N, and O."
   ]
  },
  {
   "cell_type": "code",
   "execution_count": 6,
   "id": "57e89148",
   "metadata": {},
   "outputs": [],
   "source": [
    "class ANITrainer:\n",
    "    def __init__(self, model, batch_size, learning_rate, epoch, l2):\n",
    "        self.model = model\n",
    "        \n",
    "        num_params = sum(item.numel() for item in model.parameters())\n",
    "        print(f\"{model.__class__.__name__} - Number of parameters: {num_params}\")\n",
    "        \n",
    "        self.batch_size = batch_size\n",
    "        self.optimizer = torch.optim.Adam(\n",
    "            model.parameters(), lr=learning_rate, weight_decay=l2\n",
    "        )\n",
    "        self.epoch = epoch\n",
    "    \n",
    "    def train(self, train_data, val_data, early_stop=True, draw_curve=True):\n",
    "        self.model.train()\n",
    "        \n",
    "        # init data loader\n",
    "        print(\"Initialize training data...\")\n",
    "        train_data_loader = train_data.collate(self.batch_size).cache()\n",
    "        train_data_len = len(train_data)\n",
    "        \n",
    "        # definition of loss function\n",
    "        loss_func = nn.MSELoss()\n",
    "        \n",
    "        # record epoch losses\n",
    "        train_loss_list = []\n",
    "        val_loss_list = []\n",
    "        lowest_val_loss = np.inf\n",
    "        \n",
    "        for i in tqdm(range(self.epoch), leave=True):\n",
    "            train_epoch_loss = 0.0\n",
    "            for train_data_batch in train_data_loader:\n",
    "                \n",
    "                # compute energies\n",
    "                true_energies = train_data_batch[\"energies\"].to(device).float()\n",
    "                \n",
    "                # compute loss\n",
    "                batch_loss = loss_func(\n",
    "                    true_energies,\n",
    "                    self.model((\n",
    "                        train_data_batch['species'].to(device),\n",
    "                        train_data_batch['coordinates'].to(device)\n",
    "                    ))[1]\n",
    "                )\n",
    "                \n",
    "                # do a step\n",
    "                self.optimizer.zero_grad()\n",
    "                batch_loss.backward()\n",
    "                self.optimizer.step()\n",
    "                \n",
    "                batch_importance = len(train_data_batch) / train_data_len\n",
    "                train_epoch_loss += batch_loss.item() * batch_importance\n",
    "            \n",
    "            # use the self.evaluate to get loss on the validation set \n",
    "            val_epoch_loss = self.evaluate(val_data, draw_plot=False)\n",
    "            \n",
    "            # append the losses\n",
    "            train_loss_list.append(train_epoch_loss)\n",
    "            val_loss_list.append(val_epoch_loss)\n",
    "            \n",
    "            if early_stop:\n",
    "                if val_epoch_loss < lowest_val_loss:\n",
    "                    lowest_val_loss = val_epoch_loss\n",
    "                    weights = self.model.state_dict()\n",
    "        \n",
    "        if draw_curve:\n",
    "            fig, ax = plt.subplots(1, 1, figsize=(5, 4), constrained_layout=True)\n",
    "            ax.set_yscale(\"log\")\n",
    "            # Plot train loss and validation loss\n",
    "            epochs = np.arange(self.epoch)\n",
    "            ax.plot(epochs, train_loss_list, label='Train')\n",
    "            ax.plot(epochs, val_loss_list, label='Validation')\n",
    "            ax.legend()\n",
    "            ax.set_xlabel(\"# Batch\")\n",
    "            ax.set_ylabel(\"Loss\")\n",
    "        \n",
    "        if early_stop:\n",
    "            self.model.load_state_dict(weights)\n",
    "        \n",
    "        return train_loss_list, val_loss_list\n",
    "    \n",
    "    \n",
    "    def evaluate(self, data, draw_plot=False):\n",
    "        \n",
    "        # init data loader\n",
    "        data_loader = data.collate(self.batch_size).cache()\n",
    "        data_len = len(data)\n",
    "        \n",
    "        # init loss function\n",
    "        loss_func = nn.MSELoss()\n",
    "        total_loss = 0.0\n",
    "        \n",
    "        if draw_plot:\n",
    "            true_energies_all = []\n",
    "            pred_energies_all = []\n",
    "            \n",
    "        with torch.no_grad():\n",
    "            for batch_data in data_loader:\n",
    "                \n",
    "                # compute energies\n",
    "                true_energies = batch_data[\"energies\"].to(device).float()\n",
    "                _, pred_energies = self.model((\n",
    "                    batch_data['species'].to(device),\n",
    "                    batch_data['coordinates'].to(device)\n",
    "                ))\n",
    "\n",
    "                # compute loss\n",
    "                batch_loss = loss_func(true_energies, pred_energies)\n",
    "\n",
    "                batch_importance = len(batch_data) / data_len\n",
    "                total_loss += batch_loss.item() * batch_importance\n",
    "                \n",
    "                if draw_plot:\n",
    "                    true_energies_all.append(true_energies.detach().cpu().numpy().flatten())\n",
    "                    pred_energies_all.append(pred_energies.detach().cpu().numpy().flatten())\n",
    "\n",
    "        if draw_plot:\n",
    "            true_energies_all = np.concatenate(true_energies_all)\n",
    "            pred_energies_all = np.concatenate(pred_energies_all)\n",
    "            hartree2kcalmol = (true_energies_all - pred_energies_all) * 627.5094738898777\n",
    "            mae = np.mean(np.abs(hartree2kcalmol))\n",
    "            fig, ax = plt.subplots(1, 1, figsize=(5, 4), constrained_layout=True)\n",
    "            ax.scatter(true_energies_all, pred_energies_all, label=f\"MAE: {mae:.2f} kcal/mol\", s=2)\n",
    "            ax.set_xlabel(\"Ground Truth\")\n",
    "            ax.set_ylabel(\"Predicted\")\n",
    "            xmin, xmax = ax.get_xlim()\n",
    "            ymin, ymax = ax.get_ylim()\n",
    "            vmin, vmax = min(xmin, ymin), max(xmax, ymax)\n",
    "            ax.set_xlim(vmin, vmax)\n",
    "            ax.set_ylim(vmin, vmax)\n",
    "            ax.plot([vmin, vmax], [vmin, vmax], color='red')\n",
    "            ax.legend()\n",
    "\n",
    "        return total_loss"
   ]
  },
  {
   "cell_type": "code",
   "execution_count": 5,
   "id": "ba6ad431",
   "metadata": {},
   "outputs": [
    {
     "name": "stdout",
     "output_type": "stream",
     "text": [
      "384\n"
     ]
    }
   ],
   "source": [
    "def init_aev_computer():\n",
    "    Rcr = 5.2\n",
    "    Rca = 3.5\n",
    "    EtaR = torch.tensor([16], dtype=torch.float, device=device)\n",
    "    ShfR = torch.tensor([\n",
    "        0.900000, 1.168750, 1.437500, 1.706250, \n",
    "        1.975000, 2.243750, 2.512500, 2.781250, \n",
    "        3.050000, 3.318750, 3.587500, 3.856250, \n",
    "        4.125000, 4.393750, 4.662500, 4.931250\n",
    "    ], dtype=torch.float, device=device)\n",
    "\n",
    "\n",
    "    EtaA = torch.tensor([8], dtype=torch.float, device=device)\n",
    "    Zeta = torch.tensor([32], dtype=torch.float, device=device)\n",
    "    ShfA = torch.tensor([0.90, 1.55, 2.20, 2.85], dtype=torch.float, device=device)\n",
    "    ShfZ = torch.tensor([\n",
    "        0.19634954, 0.58904862, 0.9817477, 1.37444680, \n",
    "        1.76714590, 2.15984490, 2.5525440, 2.94524300\n",
    "    ], dtype=torch.float, device=device)\n",
    "\n",
    "    num_species = 4\n",
    "    aev_computer = torchani.AEVComputer(\n",
    "        Rcr, Rca, EtaR, ShfR, EtaA, Zeta, ShfA, ShfZ, num_species\n",
    "    )\n",
    "    return aev_computer\n",
    "\n",
    "aev_computer = init_aev_computer()\n",
    "aev_dim = aev_computer.aev_length\n",
    "print(aev_dim)"
   ]
  },
  {
   "cell_type": "markdown",
   "id": "9a1b0cc4",
   "metadata": {},
   "source": [
    "## Model Construction\n",
    "___\n",
    "Here I construct the main model I have refined over the course of the project, which uses the AEV computations and feeds it to the same four neural networks for each atom type using an ANN with the architecture 328 (aev dim) - 128 (hidden dim) - CELU - 1 (output energy).\n",
    "\n",
    "For my final report, I am also interested to evaluate whether using CELU helped at all with gradient flow and convergence, I will also be training a model with ReLU activations instead of CELU activations."
   ]
  },
  {
   "cell_type": "code",
   "execution_count": 7,
   "id": "6f7d0fc9",
   "metadata": {},
   "outputs": [],
   "source": [
    "def create_model(model_class: nn.Module) -> nn.Module:\n",
    "    \"\"\"Create a model for the ANI small molecule dataset\n",
    "    by using the same model for all atoms.\n",
    "\n",
    "    Args:\n",
    "        model_class (nn.Module): The pytorch model class for a single molecule\n",
    "\n",
    "    Returns:\n",
    "        nn.Module: A pytorch model for the whole dataset with aev computation preprocessing\n",
    "    \"\"\"\n",
    "    net_H = model_class()\n",
    "    net_C = model_class()\n",
    "    net_N = model_class()\n",
    "    net_O = model_class()\n",
    "    ani_net = torchani.ANIModel([net_H, net_C, net_N, net_O])\n",
    "    return nn.Sequential(\n",
    "        aev_computer,\n",
    "        ani_net\n",
    "    ).to(device)"
   ]
  },
  {
   "cell_type": "code",
   "execution_count": 9,
   "id": "bd70b44f",
   "metadata": {},
   "outputs": [
    {
     "data": {
      "text/plain": [
       "Sequential(\n",
       "  (0): AEVComputer()\n",
       "  (1): ANIModel(\n",
       "    (0): FeedForwardCeLU(\n",
       "      (layers): Sequential(\n",
       "        (0): Linear(in_features=384, out_features=128, bias=True)\n",
       "        (1): CELU(alpha=0.1)\n",
       "        (2): Linear(in_features=128, out_features=1, bias=True)\n",
       "      )\n",
       "    )\n",
       "    (1): FeedForwardCeLU(\n",
       "      (layers): Sequential(\n",
       "        (0): Linear(in_features=384, out_features=128, bias=True)\n",
       "        (1): CELU(alpha=0.1)\n",
       "        (2): Linear(in_features=128, out_features=1, bias=True)\n",
       "      )\n",
       "    )\n",
       "    (2): FeedForwardCeLU(\n",
       "      (layers): Sequential(\n",
       "        (0): Linear(in_features=384, out_features=128, bias=True)\n",
       "        (1): CELU(alpha=0.1)\n",
       "        (2): Linear(in_features=128, out_features=1, bias=True)\n",
       "      )\n",
       "    )\n",
       "    (3): FeedForwardCeLU(\n",
       "      (layers): Sequential(\n",
       "        (0): Linear(in_features=384, out_features=128, bias=True)\n",
       "        (1): CELU(alpha=0.1)\n",
       "        (2): Linear(in_features=128, out_features=1, bias=True)\n",
       "      )\n",
       "    )\n",
       "  )\n",
       ")"
      ]
     },
     "execution_count": 9,
     "metadata": {},
     "output_type": "execute_result"
    }
   ],
   "source": [
    "class FeedForwardCeLU(nn.Module):\n",
    "    def __init__(self):\n",
    "        super().__init__()\n",
    "        self.layers = nn.Sequential(\n",
    "            nn.Linear(aev_dim, 128),\n",
    "            nn.CELU(alpha=0.1),\n",
    "            nn.Linear(128, 1)\n",
    "        )\n",
    "    \n",
    "    def forward(self, x):\n",
    "        return self.layers(x)\n",
    "\n",
    "ff_celu_model = create_model(FeedForwardCeLU).to(device)\n",
    "ff_celu_model"
   ]
  },
  {
   "cell_type": "markdown",
   "id": "875a26e2",
   "metadata": {},
   "source": [
    "## Model Training\n",
    "___"
   ]
  },
  {
   "cell_type": "code",
   "execution_count": 10,
   "id": "3fb1b2f2",
   "metadata": {},
   "outputs": [
    {
     "name": "stdout",
     "output_type": "stream",
     "text": [
      "Sequential - Number of parameters: 197636\n",
      "Initialize training data...\n"
     ]
    },
    {
     "name": "stderr",
     "output_type": "stream",
     "text": [
      "100%|██████████| 100/100 [14:08<00:00,  8.48s/it]\n"
     ]
    },
    {
     "data": {
      "image/png": "[encoded data removed]",
      "text/plain": [
       "<Figure size 500x400 with 1 Axes>"
      ]
     },
     "metadata": {},
     "output_type": "display_data"
    }
   ],
   "source": [
    "ff_celu_trainer = ANITrainer(\n",
    "    model=ff_celu_model,\n",
    "    batch_size=2048,\n",
    "    learning_rate=1e-4,\n",
    "    epoch=100,\n",
    "    l2=0.0\n",
    ")\n",
    "\n",
    "ff_celu_train_loss, ff_celu_val_loss = ff_celu_trainer.train(\n",
    "    train_data,\n",
    "    val_data,\n",
    "    early_stop=False,\n",
    "    draw_curve=True\n",
    ")"
   ]
  },
  {
   "cell_type": "code",
   "execution_count": 12,
   "id": "15ae1fec",
   "metadata": {},
   "outputs": [],
   "source": [
    "# save the model\n",
    "torch.save(\n",
    "    ff_celu_model.state_dict(),\n",
    "    \"models/ff_celu_model.pth\"\n",
    ")"
   ]
  },
  {
   "cell_type": "code",
   "execution_count": null,
   "id": "b21e60c5",
   "metadata": {},
   "outputs": [
    {
     "name": "stdout",
     "output_type": "stream",
     "text": [
      "784K\tmodels/ff_celu_model.pth\n"
     ]
    }
   ],
   "source": [
    "# get the saved model size in bytes\n",
    "!du -h models/ff_celu_model.pth"
   ]
  },
  {
   "cell_type": "markdown",
   "id": "1983ad11",
   "metadata": {},
   "source": [
    "## Evaluation\n",
    "___"
   ]
  }
 ],
 "metadata": {
  "kernelspec": {
   "display_name": "base",
   "language": "python",
   "name": "python3"
  },
  "language_info": {
   "codemirror_mode": {
    "name": "ipython",
    "version": 3
   },
   "file_extension": ".py",
   "mimetype": "text/x-python",
   "name": "python",
   "nbconvert_exporter": "python",
   "pygments_lexer": "ipython3",
   "version": "3.12.9"
  }
 },
 "nbformat": 4,
 "nbformat_minor": 5
}
