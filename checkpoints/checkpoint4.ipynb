{
 "cells": [
  {
   "cell_type": "markdown",
   "id": "40c4a55e",
   "metadata": {},
   "source": [
    "# BioE C142 Final Ugrad Project Checkpoint 4 - Qile Yang\n",
    "\n",
    "Instructions: Final production mode. Multiple runs and N-fold cross-validation."
   ]
  }
 ],
 "metadata": {
  "language_info": {
   "name": "python"
  }
 },
 "nbformat": 4,
 "nbformat_minor": 5
}
