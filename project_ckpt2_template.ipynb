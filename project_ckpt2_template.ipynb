{
 "cells": [
  {
   "cell_type": "markdown",
   "id": "889b99e9",
   "metadata": {},
   "source": [
    "# BIOE C142 UGrad Final Project Checkpoint 2 - Qile Yang\n",
    "\n",
    "Instructions: Network construction and workflow development. At this point you should have a working code that can train the network, demonstrated on small subset of the data."
   ]
  },
  {
   "cell_type": "code",
   "execution_count": null,
   "id": "072aa85f",
   "metadata": {},
   "outputs": [
    {
     "name": "stdout",
     "output_type": "stream",
     "text": [
      "cuda\n"
     ]
    }
   ],
   "source": [
    "# notebook and python env setup\n",
    "\n",
    "import numpy as np\n",
    "from tqdm import tqdm\n",
    "import torch\n",
    "import torch.nn as nn\n",
    "import matplotlib.pyplot as plt\n",
    "\n",
    "device = torch.device('cuda' if torch.cuda.is_available() else 'cpu')\n",
    "print(device)"
   ]
  },
  {
   "cell_type": "markdown",
   "id": "fa994b5f",
   "metadata": {},
   "source": [
    "## Checkpoint 2 Trainer Definition\n",
    "___"
   ]
  },
  {
   "cell_type": "code",
   "execution_count": null,
   "id": "703d6089",
   "metadata": {},
   "outputs": [],
   "source": [
    "class ANITrainer:\n",
    "    def __init__(self, model, batch_size, learning_rate, epoch, l2):\n",
    "        self.model = model\n",
    "        \n",
    "        num_params = sum(item.numel() for item in model.parameters())\n",
    "        print(f\"{model.__class__.__name__} - Number of parameters: {num_params}\")\n",
    "        \n",
    "        self.batch_size = batch_size\n",
    "        self.optimizer = torch.optim.Adam(\n",
    "            model.parameters(), lr=learning_rate, weight_decay=l2\n",
    "        )\n",
    "        self.epoch = epoch\n",
    "    \n",
    "    def train(self, train_data, val_data, early_stop=True, draw_curve=True):\n",
    "        self.model.train()\n",
    "        \n",
    "        # init data loader\n",
    "        print(\"Initialize training data...\")\n",
    "        train_data_loader = train_data.collate(self.batch_size).cache()\n",
    "        train_data_len = len(train_data)\n",
    "        \n",
    "        # definition of loss function: MSE is a good choice! \n",
    "        loss_func = nn.MSELoss()\n",
    "        \n",
    "        # record epoch losses\n",
    "        train_loss_list = []\n",
    "        val_loss_list = []\n",
    "        lowest_val_loss = np.inf\n",
    "        \n",
    "        for i in tqdm(range(self.epoch), leave=True):\n",
    "            train_epoch_loss = 0.0\n",
    "            for train_data_batch in train_data_loader:\n",
    "                \n",
    "                # compute energies\n",
    "                true_energies = train_data_batch[\"energies\"].to(device).float()\n",
    "                \n",
    "                # compute loss\n",
    "                batch_loss = loss_func(\n",
    "                    true_energies,\n",
    "                    self.model((\n",
    "                        train_data_batch['species'].to(device),\n",
    "                        train_data_batch['coordinates'].to(device)\n",
    "                    ))[1]\n",
    "                )\n",
    "                \n",
    "                # do a step\n",
    "                self.optimizer.zero_grad()\n",
    "                batch_loss.backward()\n",
    "                self.optimizer.step()\n",
    "                \n",
    "                batch_importance = len(train_data_batch) / train_data_len\n",
    "                train_epoch_loss += batch_loss.item() * batch_importance\n",
    "            \n",
    "            # use the self.evaluate to get loss on the validation set \n",
    "            val_epoch_loss = self.evaluate(val_data, draw_plot=False)\n",
    "            \n",
    "            # append the losses\n",
    "            train_loss_list.append(train_epoch_loss)\n",
    "            val_loss_list.append(val_epoch_loss)\n",
    "            \n",
    "            if early_stop:\n",
    "                if val_epoch_loss < lowest_val_loss:\n",
    "                    lowest_val_loss = val_epoch_loss\n",
    "                    weights = self.model.state_dict()\n",
    "        \n",
    "        if draw_curve:\n",
    "            fig, ax = plt.subplots(1, 1, figsize=(5, 4), constrained_layout=True)\n",
    "            ax.set_yscale(\"log\")\n",
    "            # Plot train loss and validation loss\n",
    "            epochs = np.arange(self.epoch)\n",
    "            ax.plot(epochs, train_loss_list, label='Train')\n",
    "            ax.plot(epochs, val_loss_list, label='Validation')\n",
    "            ax.legend()\n",
    "            ax.set_xlabel(\"# Batch\")\n",
    "            ax.set_ylabel(\"Loss\")\n",
    "        \n",
    "        if early_stop:\n",
    "            self.model.load_state_dict(weights)\n",
    "        \n",
    "        return train_loss_list, val_loss_list\n",
    "    \n",
    "    \n",
    "    def evaluate(self, data, draw_plot=False):\n",
    "        \n",
    "        # init data loader\n",
    "        data_loader = data.collate(self.batch_size).cache()\n",
    "        data_len = len(data)\n",
    "        \n",
    "        # init loss function\n",
    "        loss_func = nn.MSELoss()\n",
    "        total_loss = 0.0\n",
    "        \n",
    "        if draw_plot:\n",
    "            true_energies_all = []\n",
    "            pred_energies_all = []\n",
    "            \n",
    "        with torch.no_grad():\n",
    "            for batch_data in data_loader:\n",
    "                \n",
    "                # compute energies\n",
    "                true_energies = batch_data[\"energies\"].to(device).float()\n",
    "                _, pred_energies = self.model((\n",
    "                    batch_data['species'].to(device),\n",
    "                    batch_data['coordinates'].to(device)\n",
    "                ))\n",
    "\n",
    "                # compute loss\n",
    "                batch_loss = loss_func(true_energies, pred_energies)\n",
    "\n",
    "                batch_importance = len(batch_data) / data_len\n",
    "                total_loss += batch_loss.item() * batch_importance\n",
    "                \n",
    "                if draw_plot:\n",
    "                    true_energies_all.append(true_energies.detach().cpu().numpy().flatten())\n",
    "                    pred_energies_all.append(pred_energies.detach().cpu().numpy().flatten())\n",
    "\n",
    "        if draw_plot:\n",
    "            true_energies_all = np.concatenate(true_energies_all)\n",
    "            pred_energies_all = np.concatenate(pred_energies_all)\n",
    "            # Report the mean absolute error\n",
    "            # The unit of energies in the dataset is hartree\n",
    "            # please convert it to kcal/mol when reporting the mean absolute error\n",
    "            # 1 hartree = 627.5094738898777 kcal/mol\n",
    "            # MAE = mean(|true - pred|)\n",
    "            hartree2kcalmol = (true_energies_all - pred_energies_all) * 627.5094738898777\n",
    "            mae = np.mean(np.abs(hartree2kcalmol))\n",
    "            fig, ax = plt.subplots(1, 1, figsize=(5, 4), constrained_layout=True)\n",
    "            ax.scatter(true_energies_all, pred_energies_all, label=f\"MAE: {mae:.2f} kcal/mol\", s=2)\n",
    "            ax.set_xlabel(\"Ground Truth\")\n",
    "            ax.set_ylabel(\"Predicted\")\n",
    "            xmin, xmax = ax.get_xlim()\n",
    "            ymin, ymax = ax.get_ylim()\n",
    "            vmin, vmax = min(xmin, ymin), max(xmax, ymax)\n",
    "            ax.set_xlim(vmin, vmax)\n",
    "            ax.set_ylim(vmin, vmax)\n",
    "            ax.plot([vmin, vmax], [vmin, vmax], color='red')\n",
    "            ax.legend()\n",
    "\n",
    "        return total_loss\n",
    "        "
   ]
  },
  {
   "cell_type": "markdown",
   "id": "f5ab0aac",
   "metadata": {},
   "source": [
    "### Checkpoint 1 Dataset loading"
   ]
  },
  {
   "cell_type": "code",
   "execution_count": null,
   "id": "acd5892d",
   "metadata": {},
   "outputs": [],
   "source": [
    "import torchani\n",
    "import warnings\n",
    "warnings.filterwarnings(\"ignore\", category=UserWarning)\n",
    "\n",
    "def init_aev_computer():\n",
    "    Rcr = 5.2\n",
    "    Rca = 3.5\n",
    "    EtaR = torch.tensor([16], dtype=torch.float, device=device)\n",
    "    ShfR = torch.tensor([\n",
    "        0.900000, 1.168750, 1.437500, 1.706250, \n",
    "        1.975000, 2.243750, 2.512500, 2.781250, \n",
    "        3.050000, 3.318750, 3.587500, 3.856250, \n",
    "        4.125000, 4.393750, 4.662500, 4.931250\n",
    "    ], dtype=torch.float, device=device)\n",
    "\n",
    "\n",
    "    EtaA = torch.tensor([8], dtype=torch.float, device=device)\n",
    "    Zeta = torch.tensor([32], dtype=torch.float, device=device)\n",
    "    ShfA = torch.tensor([0.90, 1.55, 2.20, 2.85], dtype=torch.float, device=device)\n",
    "    ShfZ = torch.tensor([\n",
    "        0.19634954, 0.58904862, 0.9817477, 1.37444680, \n",
    "        1.76714590, 2.15984490, 2.5525440, 2.94524300\n",
    "    ], dtype=torch.float, device=device)\n",
    "\n",
    "    num_species = 4\n",
    "    aev_computer = torchani.AEVComputer(\n",
    "        Rcr, Rca, EtaR, ShfR, EtaA, Zeta, ShfA, ShfZ, num_species\n",
    "    )\n",
    "    return aev_computer\n",
    "\n",
    "aev_computer = init_aev_computer()\n",
    "aev_dim = aev_computer.aev_length\n",
    "\n",
    "def load_ani_dataset(dspath):\n",
    "    self_energies = torch.tensor([ # this was in the original code, but the variable isn't used?\n",
    "        0.500607632585, -37.8302333826,\n",
    "        -54.5680045287, -75.0362229210\n",
    "    ], dtype=torch.float, device=device)\n",
    "    energy_shifter = torchani.utils.EnergyShifter(None)\n",
    "    species_order = ['H', 'C', 'N', 'O']\n",
    "\n",
    "    dataset = torchani.data.load(dspath)\n",
    "    dataset = dataset.subtract_self_energies(energy_shifter, species_order)\n",
    "    dataset = dataset.species_to_indices(species_order)\n",
    "    dataset = dataset.shuffle()\n",
    "    return dataset\n",
    "\n",
    "dataset = load_ani_dataset(\"./data/ani_gdb_s01_to_s04.h5\")\n",
    "train_data, val_data, test_data = dataset.split(0.8, 0.1, 0.1)"
   ]
  },
  {
   "cell_type": "code",
   "execution_count": 11,
   "id": "cafa922a",
   "metadata": {},
   "outputs": [
    {
     "name": "stdout",
     "output_type": "stream",
     "text": [
      "691918\n"
     ]
    }
   ],
   "source": [
    "print(len(train_data))"
   ]
  },
  {
   "cell_type": "markdown",
   "id": "57ac16f9",
   "metadata": {},
   "source": [
    "### Checkpoint 1 model definition"
   ]
  },
  {
   "cell_type": "code",
   "execution_count": 12,
   "id": "78b47dac",
   "metadata": {},
   "outputs": [],
   "source": [
    "class AtomicNet(nn.Module):\n",
    "    def __init__(self):\n",
    "        super().__init__()\n",
    "        self.layers = nn.Sequential(\n",
    "            nn.Linear(384, 128),\n",
    "            nn.ReLU(),\n",
    "            nn.Linear(128, 1)\n",
    "        )\n",
    "    \n",
    "    def forward(self, x):\n",
    "        return self.layers(x)\n",
    "\n",
    "net_H = AtomicNet()\n",
    "net_C = AtomicNet()\n",
    "net_N = AtomicNet()\n",
    "net_O = AtomicNet()\n",
    "\n",
    "# ANI model requires a network for each atom type\n",
    "# use torch.ANIModel() to compile atomic networks\n",
    "ani_net = torchani.ANIModel([net_H, net_C, net_N, net_O])\n",
    "model = nn.Sequential(\n",
    "    aev_computer,\n",
    "    ani_net\n",
    ").to(device)"
   ]
  },
  {
   "cell_type": "markdown",
   "id": "0a5a1b92",
   "metadata": {},
   "source": [
    "### Checkpoint 2 Demo Training Loop Demo\n",
    "\n",
    "Note to grader: as the instructions clearly indicated that this checkpoint only needed to demonstrate that I have the ability to get the training loop working, I am only going to do very few iterations just to showcase the code since these operations are very computationally expensive. I showcase below how my `ANITrainer()` class definition and training and eval loops work correctly on a few epochs."
   ]
  },
  {
   "cell_type": "code",
   "execution_count": 26,
   "id": "4ccabdb8",
   "metadata": {},
   "outputs": [
    {
     "name": "stdout",
     "output_type": "stream",
     "text": [
      "Sequential - Number of parameters: 197636\n",
      "Initialize training data...\n"
     ]
    },
    {
     "name": "stderr",
     "output_type": "stream",
     "text": [
      "100%|██████████| 10/10 [03:06<00:00, 18.65s/it]\n"
     ]
    },
    {
     "data": {
      "text/plain": [
       "([3.5722315779028813e-07,\n",
       "  1.5685234906626048e-07,\n",
       "  1.6313046982092897e-07,\n",
       "  1.6527435448466591e-07,\n",
       "  1.583858397784593e-07,\n",
       "  1.599639933161444e-07,\n",
       "  1.5551698888527737e-07,\n",
       "  1.5592780016203376e-07,\n",
       "  1.5301020413163053e-07,\n",
       "  1.4864302153051345e-07],\n",
       " [1.5188434039554123e-07,\n",
       "  1.7545310061355053e-07,\n",
       "  1.5412695955782022e-07,\n",
       "  1.638054364581383e-07,\n",
       "  1.7206899997189537e-07,\n",
       "  1.5308493271058112e-07,\n",
       "  1.5840675595412725e-07,\n",
       "  1.6033045545566277e-07,\n",
       "  1.5440164514996305e-07,\n",
       "  1.493528560667484e-07])"
      ]
     },
     "execution_count": 26,
     "metadata": {},
     "output_type": "execute_result"
    },
    {
     "data": {
      "image/png": "[encoded data removed]",
      "text/plain": [
       "<Figure size 500x400 with 1 Axes>"
      ]
     },
     "metadata": {},
     "output_type": "display_data"
    }
   ],
   "source": [
    "trainer = ANITrainer(\n",
    "    model=model,\n",
    "    batch_size=1024,\n",
    "    learning_rate=1e-3,\n",
    "    epoch=10,\n",
    "    l2=1e-4\n",
    ")\n",
    "\n",
    "trainer.train(\n",
    "    train_data=train_data,\n",
    "    val_data=val_data,\n",
    "    early_stop=True,\n",
    "    draw_curve=True\n",
    ")"
   ]
  },
  {
   "cell_type": "markdown",
   "id": "3d9b38f1",
   "metadata": {},
   "source": [
    "I see that the validation loss is a little unstable but this seems to be caused by slightly high learning rate"
   ]
  },
  {
   "cell_type": "code",
   "execution_count": 27,
   "id": "ac545392",
   "metadata": {},
   "outputs": [
    {
     "data": {
      "text/plain": [
       "1.3785299297635178e-07"
      ]
     },
     "execution_count": 27,
     "metadata": {},
     "output_type": "execute_result"
    },
    {
     "data": {
      "image/png": "[encoded data removed]",
      "text/plain": [
       "<Figure size 500x400 with 1 Axes>"
      ]
     },
     "metadata": {},
     "output_type": "display_data"
    }
   ],
   "source": [
    "trainer.evaluate(test_data, draw_plot=True)"
   ]
  },
  {
   "cell_type": "markdown",
   "id": "0b5a51a5",
   "metadata": {},
   "source": [
    "Interestingly with just 10 epochs the model is actually performing quite decently on the validation set! The correlation line actually looks pretty well fit and the MAE is only 2.31kcal/mol."
   ]
  }
 ],
 "metadata": {
  "kernelspec": {
   "display_name": "base",
   "language": "python",
   "name": "python3"
  },
  "language_info": {
   "codemirror_mode": {
    "name": "ipython",
    "version": 3
   },
   "file_extension": ".py",
   "mimetype": "text/x-python",
   "name": "python",
   "nbconvert_exporter": "python",
   "pygments_lexer": "ipython3",
   "version": "3.12.9"
  }
 },
 "nbformat": 4,
 "nbformat_minor": 5
}
